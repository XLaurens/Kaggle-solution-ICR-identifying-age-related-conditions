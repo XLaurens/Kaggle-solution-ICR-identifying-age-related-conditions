{
 "cells": [
  {
   "cell_type": "code",
   "execution_count": 2,
   "id": "5c6bbfec",
   "metadata": {
    "_cell_guid": "b1076dfc-b9ad-4769-8c92-a6c4dae69d19",
    "_uuid": "8f2839f25d086af736a60e9eeb907d3b93b6e0e5",
    "execution": {
     "iopub.execute_input": "2023-06-09T13:05:09.100705Z",
     "iopub.status.busy": "2023-06-09T13:05:09.100343Z",
     "iopub.status.idle": "2023-06-09T13:05:11.659063Z",
     "shell.execute_reply": "2023-06-09T13:05:11.657855Z"
    },
    "papermill": {
     "duration": 2.565561,
     "end_time": "2023-06-09T13:05:11.661542",
     "exception": false,
     "start_time": "2023-06-09T13:05:09.095981",
     "status": "completed"
    },
    "tags": []
   },
   "outputs": [],
   "source": [
    "# packages\n",
    "import pandas as pd\n",
    "import xgboost as xgb\n",
    "\n",
    "from sklearn.impute import KNNImputer\n",
    "from sklearn.model_selection import train_test_split\n",
    "\n",
    "# Métrics\n",
    "from sklearn.metrics import log_loss\n",
    "from sklearn.metrics import accuracy_score"
   ]
  },
  {
   "cell_type": "code",
   "execution_count": 2,
   "id": "eea85e58",
   "metadata": {
    "execution": {
     "iopub.execute_input": "2023-06-09T13:05:11.667895Z",
     "iopub.status.busy": "2023-06-09T13:05:11.667568Z",
     "iopub.status.idle": "2023-06-09T13:05:11.723053Z",
     "shell.execute_reply": "2023-06-09T13:05:11.722362Z"
    },
    "papermill": {
     "duration": 0.061028,
     "end_time": "2023-06-09T13:05:11.725122",
     "exception": false,
     "start_time": "2023-06-09T13:05:11.664094",
     "status": "completed"
    },
    "tags": []
   },
   "outputs": [],
   "source": [
    "# Import the data from Kaggle\n",
    "df_train = pd.read_csv('../input/icr-identify-age-related-conditions/train.csv', index_col = 'Id')\n",
    "df_train['EJ'] = df_train['EJ'].replace({'A':0, 'B':1})\n",
    "\n",
    "df_test = pd.read_csv('../input/icr-identify-age-related-conditions/test.csv', index_col = 'Id')\n",
    "df_test['EJ'] = df_test['EJ'].replace({'A':0,'B':1})\n",
    "\n",
    "sample_submission = pd.read_csv('../input/icr-identify-age-related-conditions/sample_submission.csv')\n",
    "sample_submission['class_0'] = 0.\n",
    "sample_submission['class_1'] = 0."
   ]
  },
  {
   "cell_type": "code",
   "execution_count": 3,
   "id": "19d1486d",
   "metadata": {
    "execution": {
     "iopub.execute_input": "2023-06-09T13:05:11.731696Z",
     "iopub.status.busy": "2023-06-09T13:05:11.730837Z",
     "iopub.status.idle": "2023-06-09T13:05:11.762321Z",
     "shell.execute_reply": "2023-06-09T13:05:11.761487Z"
    },
    "papermill": {
     "duration": 0.037079,
     "end_time": "2023-06-09T13:05:11.764701",
     "exception": false,
     "start_time": "2023-06-09T13:05:11.727622",
     "status": "completed"
    },
    "tags": []
   },
   "outputs": [],
   "source": [
    "# Imputation for completing missing values using k-Nearest Neighbors\n",
    "imputer = KNNImputer(n_neighbors=5).fit(df_train)\n",
    "\n",
    "df_train = pd.DataFrame(\n",
    "    data = imputer.transform(df_train),\n",
    "    index = df_train.index,\n",
    "    columns = list(df_train))"
   ]
  },
  {
   "cell_type": "code",
   "execution_count": 4,
   "id": "c4a28881",
   "metadata": {
    "execution": {
     "iopub.execute_input": "2023-06-09T13:05:11.771778Z",
     "iopub.status.busy": "2023-06-09T13:05:11.771423Z",
     "iopub.status.idle": "2023-06-09T13:05:11.777809Z",
     "shell.execute_reply": "2023-06-09T13:05:11.776995Z"
    },
    "papermill": {
     "duration": 0.011788,
     "end_time": "2023-06-09T13:05:11.779563",
     "exception": false,
     "start_time": "2023-06-09T13:05:11.767775",
     "status": "completed"
    },
    "tags": []
   },
   "outputs": [],
   "source": [
    "# Spitting the data between positive and negative sample\n",
    "df_train_1 = df_train[df_train['Class']==1]\n",
    "df_train_0 = df_train[df_train['Class']==0]"
   ]
  },
  {
   "cell_type": "code",
   "execution_count": null,
   "id": "3fe112f3",
   "metadata": {},
   "outputs": [],
   "source": [
    "# Parameters to create and select only the best models\n",
    "nb_models = 1000\n",
    "nb_model_selected = int(nb_models * 0.03)\n",
    "list_predictions = []\n",
    "list_logloss = []"
   ]
  },
  {
   "cell_type": "code",
   "execution_count": 5,
   "id": "284a73cb",
   "metadata": {
    "execution": {
     "iopub.execute_input": "2023-06-09T13:05:11.786732Z",
     "iopub.status.busy": "2023-06-09T13:05:11.786372Z",
     "iopub.status.idle": "2023-06-09T13:07:18.853778Z",
     "shell.execute_reply": "2023-06-09T13:07:18.852381Z"
    },
    "papermill": {
     "duration": 127.073272,
     "end_time": "2023-06-09T13:07:18.855864",
     "exception": false,
     "start_time": "2023-06-09T13:05:11.782592",
     "status": "completed"
    },
    "tags": []
   },
   "outputs": [
    {
     "name": "stdout",
     "output_type": "stream",
     "text": [
      "Done.\n"
     ]
    }
   ],
   "source": [
    "for i in range(nb_models):\n",
    "    # Create an unbalanced dataset random negative sample\n",
    "    df_train_model = pd.concat([df_train_1, df_train_0.sample(n=324)])\n",
    "    df_train_model = df_train_model.sample(frac=1, random_state=1)\n",
    "\n",
    "    X,y = df_train_model.drop(columns = 'Class'), df_train_model[\"Class\"]\n",
    "    X_train, X_test, y_train, y_test = train_test_split(X, y, test_size=0.1, random_state=42)\n",
    "\n",
    "    # Train a weak classifier\n",
    "    weak_clf = xgb.XGBClassifier(\n",
    "        max_depth = 3,\n",
    "        n_estimators = 80,\n",
    "        random_state = 723,\n",
    "        learning_rate = 0.1,\n",
    "        early_stopping_rounds = 10,\n",
    "        objective = 'binary:logistic',\n",
    "        subsample = 0.5,\n",
    "        eval_metric = ['logloss'],\n",
    "        scale_pos_weight = 3.0\n",
    "    )\n",
    "\n",
    "    weak_clf.fit(X_train, y_train, eval_set = [(X_train, y_train), (X_test, y_test)], verbose=False)\n",
    "\n",
    "    # Compute and logg metrics\n",
    "    list_predictions.append(pd.DataFrame(weak_clf.predict_proba(df_test)))\n",
    "    list_logloss.append(log_loss(y_test, weak_clf.predict_proba(X_test)))\n",
    "\n",
    "print('Done.')"
   ]
  },
  {
   "cell_type": "code",
   "execution_count": 6,
   "id": "780454bb",
   "metadata": {
    "execution": {
     "iopub.execute_input": "2023-06-09T13:07:18.862047Z",
     "iopub.status.busy": "2023-06-09T13:07:18.861662Z",
     "iopub.status.idle": "2023-06-09T13:07:18.887124Z",
     "shell.execute_reply": "2023-06-09T13:07:18.885828Z"
    },
    "papermill": {
     "duration": 0.031736,
     "end_time": "2023-06-09T13:07:18.889878",
     "exception": false,
     "start_time": "2023-06-09T13:07:18.858142",
     "status": "completed"
    },
    "tags": []
   },
   "outputs": [],
   "source": [
    "# Filter the best models\n",
    "df_logloss = pd.DataFrame(data = list_logloss, columns = ['logloss'])\n",
    "df_logloss = df_logloss.sort_values(by=['logloss'])\n",
    "df_logloss = df_logloss.iloc[:nb_model_selected]\n",
    "\n",
    "# Predict\n",
    "for i in list(df_logloss.index) :\n",
    "    data = list_predictions[i]\n",
    "    sample_submission['class_0'] += data[0]\n",
    "\n",
    "sample_submission['class_0'] /= nb_model_selected\n",
    "sample_submission['class_1'] = 1 - sample_submission['class_0']\n",
    "\n",
    "# Save the submission to Kaggle\n",
    "sample_submission.set_index('Id').to_csv('submission.csv')"
   ]
  }
 ],
 "metadata": {
  "kernelspec": {
   "display_name": "Python 3",
   "language": "python",
   "name": "python3"
  },
  "language_info": {
   "codemirror_mode": {
    "name": "ipython",
    "version": 3
   },
   "file_extension": ".py",
   "mimetype": "text/x-python",
   "name": "python",
   "nbconvert_exporter": "python",
   "pygments_lexer": "ipython3",
   "version": "3.9.13"
  },
  "papermill": {
   "default_parameters": {},
   "duration": 139.483265,
   "end_time": "2023-06-09T13:07:19.820997",
   "environment_variables": {},
   "exception": null,
   "input_path": "__notebook__.ipynb",
   "output_path": "__notebook__.ipynb",
   "parameters": {},
   "start_time": "2023-06-09T13:05:00.337732",
   "version": "2.4.0"
  }
 },
 "nbformat": 4,
 "nbformat_minor": 5
}
